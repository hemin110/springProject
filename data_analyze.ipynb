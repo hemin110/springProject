{
 "cells": [
  {
   "cell_type": "code",
   "execution_count": 1,
   "metadata": {},
   "outputs": [],
   "source": [
    "import pandas  as pd \n",
    "import numpy as np"
   ]
  },
  {
   "cell_type": "code",
   "execution_count": 2,
   "metadata": {},
   "outputs": [],
   "source": [
    "labelInfo = pd.read_csv('./data/dbd_faultcode.csv' , engine='python')\n",
    "test_data = pd.read_csv('./data/testing_set_for_users.csv' , engine='python')\n",
    "train_data = pd.read_csv('./data/dataset.csv',engine='python',chunksize=200000)"
   ]
  },
  {
   "cell_type": "code",
   "execution_count": 3,
   "metadata": {},
   "outputs": [],
   "source": [
    "dfList = []\n",
    "for df in train_data:\n",
    "    SimpleData = pd.merge(df , labelInfo , how='left' , on=['FMI','SPN'])\n",
    "    SimpleData = SimpleData[np.isnan(SimpleData['CODE'])==False]\n",
    "    dfList.append(SimpleData)\n",
    "train_all = pd.concat(dfList)"
   ]
  },
  {
   "cell_type": "code",
   "execution_count": 4,
   "metadata": {},
   "outputs": [
    {
     "data": {
      "text/plain": [
       "1206.0    215738\n",
       "1239.0      8194\n",
       "1141.0      1075\n",
       "1182.0       144\n",
       "1168.0        41\n",
       "1211.0        24\n",
       "1216.0         4\n",
       "1209.0         4\n",
       "1145.0         2\n",
       "1341.0         1\n",
       "1246.0         1\n",
       "1215.0         1\n",
       "1122.0         1\n",
       "Name: CODE, dtype: int64"
      ]
     },
     "execution_count": 4,
     "metadata": {},
     "output_type": "execute_result"
    }
   ],
   "source": [
    "train_all['CODE'].value_counts()"
   ]
  },
  {
   "cell_type": "code",
   "execution_count": 5,
   "metadata": {},
   "outputs": [],
   "source": [
    "test_data = test_data.dropna(axis=1 , how='all')"
   ]
  },
  {
   "cell_type": "code",
   "execution_count": 6,
   "metadata": {
    "scrolled": true
   },
   "outputs": [
    {
     "data": {
      "text/plain": [
       "{1122.0,\n",
       " 1141.0,\n",
       " 1145.0,\n",
       " 1168.0,\n",
       " 1182.0,\n",
       " 1206.0,\n",
       " 1209.0,\n",
       " 1211.0,\n",
       " 1215.0,\n",
       " 1216.0,\n",
       " 1239.0,\n",
       " 1246.0,\n",
       " 1341.0}"
      ]
     },
     "execution_count": 6,
     "metadata": {},
     "output_type": "execute_result"
    }
   ],
   "source": [
    "set(train_all['CODE'])"
   ]
  },
  {
   "cell_type": "code",
   "execution_count": 7,
   "metadata": {},
   "outputs": [],
   "source": [
    "# test_data['FAULTTIME']"
   ]
  },
  {
   "cell_type": "code",
   "execution_count": 8,
   "metadata": {},
   "outputs": [],
   "source": [
    "# ##处理时间问题\n",
    "# test_faulttime = []\n",
    "# train_faulttime = []\n",
    "# test_collecttime = []\n",
    "# train_collecttime = []\n",
    "# import time ,datetime\n",
    "# # test_data['FAULTTIME'] = ((test_data['FAULTTIME']).replace('-','').replace(' ','').replace(':',''))\n",
    "# train_all['FAULTNAME'] = train_all['FAULTNAME'].fillna(method = 'pad',inplace = True)\n",
    "# train_all['COLLECTTIME'] = train_all['COLLECTTIME'].fillna(method = 'pad',inplace = True)\n",
    "# for index in test_data['FAULTTIME'].index:\n",
    "#     timeArray = time.strptime(test_data['FAULTTIME'].loc[index],'%Y-%m-%d %H:%M:%S')\n",
    "#     timeStamp = int(time.mktime(timeArray))\n",
    "#     test_faulttime.append(timeStamp)\n",
    "# for index in test_data['COLLECTTIME'].index:\n",
    "#     timeArray = time.strptime(test_data['COLLECTTIME'].loc[index],'%Y-%m-%d %H:%M:%S')\n",
    "#     timeStamp = int(time.mktime(timeArray))\n",
    "#     test_collecttime.append(timeStamp)\n",
    "# for index in train_all['FAULTTIME'].index:\n",
    "#     try:\n",
    "#         timeArray = time.strptime(train_all['FAULTTIME'].loc[index],'%Y-%m-%d %H:%M:%S')\n",
    "#         timeStamp = int(time.mktime(timeArray))\n",
    "#         train_faulttime.append(timeStamp)\n",
    "#     except Exception:\n",
    "#         train_faulttime.append(None)\n",
    "# for index in train_all['COLLECTTIME'].index:\n",
    "#     try:\n",
    "#         timeArray = time.strptime(train_all['COLLECTTIME'].loc[index],'%Y-%m-%d %H:%M:%S')\n",
    "#         timeStamp = int(time.mktime(timeArray))\n",
    "#         train_collecttime.append(timeArray)\n",
    "#     except Exception:\n",
    "#         train_collecttime.append(None)"
   ]
  },
  {
   "cell_type": "code",
   "execution_count": 9,
   "metadata": {},
   "outputs": [],
   "source": [
    "# print (len(train_collecttime))\n",
    "# print (len(train_faulttime))\n",
    "# print (len(test_faulttime))\n",
    "# print (len(test_collecttime))"
   ]
  },
  {
   "cell_type": "code",
   "execution_count": null,
   "metadata": {},
   "outputs": [],
   "source": []
  },
  {
   "cell_type": "code",
   "execution_count": 10,
   "metadata": {},
   "outputs": [],
   "source": [
    "csv_head = ['ACCRUNTIMES' , 'AREA' , 'CITY' , 'FRID' , 'LAT' , 'LNG' , 'PROVINCE' , 'READFLAG' , 'UNIQUENO' ]"
   ]
  },
  {
   "cell_type": "code",
   "execution_count": 11,
   "metadata": {},
   "outputs": [],
   "source": [
    "label_map = pd.read_csv('./data/train_mer.txt')"
   ]
  },
  {
   "cell_type": "code",
   "execution_count": 12,
   "metadata": {},
   "outputs": [
    {
     "data": {
      "text/html": [
       "<div>\n",
       "<style scoped>\n",
       "    .dataframe tbody tr th:only-of-type {\n",
       "        vertical-align: middle;\n",
       "    }\n",
       "\n",
       "    .dataframe tbody tr th {\n",
       "        vertical-align: top;\n",
       "    }\n",
       "\n",
       "    .dataframe thead th {\n",
       "        text-align: right;\n",
       "    }\n",
       "</style>\n",
       "<table border=\"1\" class=\"dataframe\">\n",
       "  <thead>\n",
       "    <tr style=\"text-align: right;\">\n",
       "      <th></th>\n",
       "      <th>CODE</th>\n",
       "      <th>INFO</th>\n",
       "    </tr>\n",
       "  </thead>\n",
       "  <tbody>\n",
       "    <tr>\n",
       "      <th>0</th>\n",
       "      <td>1206.0</td>\n",
       "      <td>0</td>\n",
       "    </tr>\n",
       "    <tr>\n",
       "      <th>1</th>\n",
       "      <td>1239.0</td>\n",
       "      <td>1</td>\n",
       "    </tr>\n",
       "    <tr>\n",
       "      <th>2</th>\n",
       "      <td>1141.0</td>\n",
       "      <td>2</td>\n",
       "    </tr>\n",
       "    <tr>\n",
       "      <th>3</th>\n",
       "      <td>1182.0</td>\n",
       "      <td>3</td>\n",
       "    </tr>\n",
       "    <tr>\n",
       "      <th>4</th>\n",
       "      <td>1168.0</td>\n",
       "      <td>4</td>\n",
       "    </tr>\n",
       "  </tbody>\n",
       "</table>\n",
       "</div>"
      ],
      "text/plain": [
       "     CODE  INFO\n",
       "0  1206.0     0\n",
       "1  1239.0     1\n",
       "2  1141.0     2\n",
       "3  1182.0     3\n",
       "4  1168.0     4"
      ]
     },
     "execution_count": 12,
     "metadata": {},
     "output_type": "execute_result"
    }
   ],
   "source": [
    "label_map"
   ]
  },
  {
   "cell_type": "code",
   "execution_count": 13,
   "metadata": {},
   "outputs": [],
   "source": [
    "train = pd.merge(train_all , label_map , how='left' , on=['CODE'])"
   ]
  },
  {
   "cell_type": "code",
   "execution_count": 14,
   "metadata": {},
   "outputs": [],
   "source": [
    "# '''\n",
    "# 1206.0    215738\n",
    "# 1239.0      8194\n",
    "# 1141.0      1075\n",
    "# 1182.0       144\n",
    "# 1168.0        41\n",
    "# 1211.0        24\n",
    "# 1216.0         4\n",
    "# 1209.0         4\n",
    "# 1145.0         2\n",
    "# 1341.0         1\n",
    "# 1246.0         1\n",
    "# 1215.0         1\n",
    "# 1122.0         1\n",
    "# '''"
   ]
  },
  {
   "cell_type": "code",
   "execution_count": 15,
   "metadata": {},
   "outputs": [],
   "source": [
    "train = train[np.isnan(train['INFO'])==False]"
   ]
  },
  {
   "cell_type": "code",
   "execution_count": 16,
   "metadata": {},
   "outputs": [
    {
     "data": {
      "text/html": [
       "<div>\n",
       "<style scoped>\n",
       "    .dataframe tbody tr th:only-of-type {\n",
       "        vertical-align: middle;\n",
       "    }\n",
       "\n",
       "    .dataframe tbody tr th {\n",
       "        vertical-align: top;\n",
       "    }\n",
       "\n",
       "    .dataframe thead th {\n",
       "        text-align: right;\n",
       "    }\n",
       "</style>\n",
       "<table border=\"1\" class=\"dataframe\">\n",
       "  <thead>\n",
       "    <tr style=\"text-align: right;\">\n",
       "      <th></th>\n",
       "      <th>Unnamed: 0</th>\n",
       "      <th>ACCEXCCOUNT</th>\n",
       "      <th>ACCRUNTIMES</th>\n",
       "      <th>ACCSTATE</th>\n",
       "      <th>ACCWORKTIMES</th>\n",
       "      <th>ALARM_0001</th>\n",
       "      <th>ALARM_0002</th>\n",
       "      <th>ALARM_0003</th>\n",
       "      <th>ALARM_0004</th>\n",
       "      <th>ALARM_0005</th>\n",
       "      <th>...</th>\n",
       "      <th>WATERTEMPERATURE</th>\n",
       "      <th>WIRELESSTEMP1</th>\n",
       "      <th>WIRELESSTEMP2</th>\n",
       "      <th>WIRELESSTEMP3</th>\n",
       "      <th>WIRELESSTEMP4</th>\n",
       "      <th>WORKDETAILID</th>\n",
       "      <th>WORKHOURS</th>\n",
       "      <th>CODE</th>\n",
       "      <th>ENGINETYPEID</th>\n",
       "      <th>INFO</th>\n",
       "    </tr>\n",
       "  </thead>\n",
       "  <tbody>\n",
       "    <tr>\n",
       "      <th>count</th>\n",
       "      <td>225192.000000</td>\n",
       "      <td>0.0</td>\n",
       "      <td>225192.000000</td>\n",
       "      <td>0.0</td>\n",
       "      <td>0.0</td>\n",
       "      <td>0.0</td>\n",
       "      <td>0.0</td>\n",
       "      <td>0.0</td>\n",
       "      <td>0.0</td>\n",
       "      <td>0.0</td>\n",
       "      <td>...</td>\n",
       "      <td>0.0</td>\n",
       "      <td>0.0</td>\n",
       "      <td>0.0</td>\n",
       "      <td>0.0</td>\n",
       "      <td>0.0</td>\n",
       "      <td>0.0</td>\n",
       "      <td>0.0</td>\n",
       "      <td>225192.000000</td>\n",
       "      <td>225192.0</td>\n",
       "      <td>225192.000000</td>\n",
       "    </tr>\n",
       "    <tr>\n",
       "      <th>mean</th>\n",
       "      <td>120664.841096</td>\n",
       "      <td>NaN</td>\n",
       "      <td>997.169198</td>\n",
       "      <td>NaN</td>\n",
       "      <td>NaN</td>\n",
       "      <td>NaN</td>\n",
       "      <td>NaN</td>\n",
       "      <td>NaN</td>\n",
       "      <td>NaN</td>\n",
       "      <td>NaN</td>\n",
       "      <td>...</td>\n",
       "      <td>NaN</td>\n",
       "      <td>NaN</td>\n",
       "      <td>NaN</td>\n",
       "      <td>NaN</td>\n",
       "      <td>NaN</td>\n",
       "      <td>NaN</td>\n",
       "      <td>NaN</td>\n",
       "      <td>1206.868206</td>\n",
       "      <td>1958.0</td>\n",
       "      <td>0.048581</td>\n",
       "    </tr>\n",
       "    <tr>\n",
       "      <th>std</th>\n",
       "      <td>69860.379132</td>\n",
       "      <td>NaN</td>\n",
       "      <td>726.091697</td>\n",
       "      <td>NaN</td>\n",
       "      <td>NaN</td>\n",
       "      <td>NaN</td>\n",
       "      <td>NaN</td>\n",
       "      <td>NaN</td>\n",
       "      <td>NaN</td>\n",
       "      <td>NaN</td>\n",
       "      <td>...</td>\n",
       "      <td>NaN</td>\n",
       "      <td>NaN</td>\n",
       "      <td>NaN</td>\n",
       "      <td>NaN</td>\n",
       "      <td>NaN</td>\n",
       "      <td>NaN</td>\n",
       "      <td>NaN</td>\n",
       "      <td>7.724750</td>\n",
       "      <td>0.0</td>\n",
       "      <td>0.248576</td>\n",
       "    </tr>\n",
       "    <tr>\n",
       "      <th>min</th>\n",
       "      <td>0.000000</td>\n",
       "      <td>NaN</td>\n",
       "      <td>0.000000</td>\n",
       "      <td>NaN</td>\n",
       "      <td>NaN</td>\n",
       "      <td>NaN</td>\n",
       "      <td>NaN</td>\n",
       "      <td>NaN</td>\n",
       "      <td>NaN</td>\n",
       "      <td>NaN</td>\n",
       "      <td>...</td>\n",
       "      <td>NaN</td>\n",
       "      <td>NaN</td>\n",
       "      <td>NaN</td>\n",
       "      <td>NaN</td>\n",
       "      <td>NaN</td>\n",
       "      <td>NaN</td>\n",
       "      <td>NaN</td>\n",
       "      <td>1141.000000</td>\n",
       "      <td>1958.0</td>\n",
       "      <td>0.000000</td>\n",
       "    </tr>\n",
       "    <tr>\n",
       "      <th>25%</th>\n",
       "      <td>59925.750000</td>\n",
       "      <td>NaN</td>\n",
       "      <td>660.000000</td>\n",
       "      <td>NaN</td>\n",
       "      <td>NaN</td>\n",
       "      <td>NaN</td>\n",
       "      <td>NaN</td>\n",
       "      <td>NaN</td>\n",
       "      <td>NaN</td>\n",
       "      <td>NaN</td>\n",
       "      <td>...</td>\n",
       "      <td>NaN</td>\n",
       "      <td>NaN</td>\n",
       "      <td>NaN</td>\n",
       "      <td>NaN</td>\n",
       "      <td>NaN</td>\n",
       "      <td>NaN</td>\n",
       "      <td>NaN</td>\n",
       "      <td>1206.000000</td>\n",
       "      <td>1958.0</td>\n",
       "      <td>0.000000</td>\n",
       "    </tr>\n",
       "    <tr>\n",
       "      <th>50%</th>\n",
       "      <td>120623.500000</td>\n",
       "      <td>NaN</td>\n",
       "      <td>888.000000</td>\n",
       "      <td>NaN</td>\n",
       "      <td>NaN</td>\n",
       "      <td>NaN</td>\n",
       "      <td>NaN</td>\n",
       "      <td>NaN</td>\n",
       "      <td>NaN</td>\n",
       "      <td>NaN</td>\n",
       "      <td>...</td>\n",
       "      <td>NaN</td>\n",
       "      <td>NaN</td>\n",
       "      <td>NaN</td>\n",
       "      <td>NaN</td>\n",
       "      <td>NaN</td>\n",
       "      <td>NaN</td>\n",
       "      <td>NaN</td>\n",
       "      <td>1206.000000</td>\n",
       "      <td>1958.0</td>\n",
       "      <td>0.000000</td>\n",
       "    </tr>\n",
       "    <tr>\n",
       "      <th>75%</th>\n",
       "      <td>181042.250000</td>\n",
       "      <td>NaN</td>\n",
       "      <td>1174.000000</td>\n",
       "      <td>NaN</td>\n",
       "      <td>NaN</td>\n",
       "      <td>NaN</td>\n",
       "      <td>NaN</td>\n",
       "      <td>NaN</td>\n",
       "      <td>NaN</td>\n",
       "      <td>NaN</td>\n",
       "      <td>...</td>\n",
       "      <td>NaN</td>\n",
       "      <td>NaN</td>\n",
       "      <td>NaN</td>\n",
       "      <td>NaN</td>\n",
       "      <td>NaN</td>\n",
       "      <td>NaN</td>\n",
       "      <td>NaN</td>\n",
       "      <td>1206.000000</td>\n",
       "      <td>1958.0</td>\n",
       "      <td>0.000000</td>\n",
       "    </tr>\n",
       "    <tr>\n",
       "      <th>max</th>\n",
       "      <td>241400.000000</td>\n",
       "      <td>NaN</td>\n",
       "      <td>4355.000000</td>\n",
       "      <td>NaN</td>\n",
       "      <td>NaN</td>\n",
       "      <td>NaN</td>\n",
       "      <td>NaN</td>\n",
       "      <td>NaN</td>\n",
       "      <td>NaN</td>\n",
       "      <td>NaN</td>\n",
       "      <td>...</td>\n",
       "      <td>NaN</td>\n",
       "      <td>NaN</td>\n",
       "      <td>NaN</td>\n",
       "      <td>NaN</td>\n",
       "      <td>NaN</td>\n",
       "      <td>NaN</td>\n",
       "      <td>NaN</td>\n",
       "      <td>1239.000000</td>\n",
       "      <td>1958.0</td>\n",
       "      <td>4.000000</td>\n",
       "    </tr>\n",
       "  </tbody>\n",
       "</table>\n",
       "<p>8 rows × 123 columns</p>\n",
       "</div>"
      ],
      "text/plain": [
       "          Unnamed: 0  ACCEXCCOUNT    ACCRUNTIMES  ACCSTATE  ACCWORKTIMES  \\\n",
       "count  225192.000000          0.0  225192.000000       0.0           0.0   \n",
       "mean   120664.841096          NaN     997.169198       NaN           NaN   \n",
       "std     69860.379132          NaN     726.091697       NaN           NaN   \n",
       "min         0.000000          NaN       0.000000       NaN           NaN   \n",
       "25%     59925.750000          NaN     660.000000       NaN           NaN   \n",
       "50%    120623.500000          NaN     888.000000       NaN           NaN   \n",
       "75%    181042.250000          NaN    1174.000000       NaN           NaN   \n",
       "max    241400.000000          NaN    4355.000000       NaN           NaN   \n",
       "\n",
       "       ALARM_0001  ALARM_0002  ALARM_0003  ALARM_0004  ALARM_0005  \\\n",
       "count         0.0         0.0         0.0         0.0         0.0   \n",
       "mean          NaN         NaN         NaN         NaN         NaN   \n",
       "std           NaN         NaN         NaN         NaN         NaN   \n",
       "min           NaN         NaN         NaN         NaN         NaN   \n",
       "25%           NaN         NaN         NaN         NaN         NaN   \n",
       "50%           NaN         NaN         NaN         NaN         NaN   \n",
       "75%           NaN         NaN         NaN         NaN         NaN   \n",
       "max           NaN         NaN         NaN         NaN         NaN   \n",
       "\n",
       "           ...        WATERTEMPERATURE  WIRELESSTEMP1  WIRELESSTEMP2  \\\n",
       "count      ...                     0.0            0.0            0.0   \n",
       "mean       ...                     NaN            NaN            NaN   \n",
       "std        ...                     NaN            NaN            NaN   \n",
       "min        ...                     NaN            NaN            NaN   \n",
       "25%        ...                     NaN            NaN            NaN   \n",
       "50%        ...                     NaN            NaN            NaN   \n",
       "75%        ...                     NaN            NaN            NaN   \n",
       "max        ...                     NaN            NaN            NaN   \n",
       "\n",
       "       WIRELESSTEMP3  WIRELESSTEMP4  WORKDETAILID  WORKHOURS           CODE  \\\n",
       "count            0.0            0.0           0.0        0.0  225192.000000   \n",
       "mean             NaN            NaN           NaN        NaN    1206.868206   \n",
       "std              NaN            NaN           NaN        NaN       7.724750   \n",
       "min              NaN            NaN           NaN        NaN    1141.000000   \n",
       "25%              NaN            NaN           NaN        NaN    1206.000000   \n",
       "50%              NaN            NaN           NaN        NaN    1206.000000   \n",
       "75%              NaN            NaN           NaN        NaN    1206.000000   \n",
       "max              NaN            NaN           NaN        NaN    1239.000000   \n",
       "\n",
       "       ENGINETYPEID           INFO  \n",
       "count      225192.0  225192.000000  \n",
       "mean         1958.0       0.048581  \n",
       "std             0.0       0.248576  \n",
       "min          1958.0       0.000000  \n",
       "25%          1958.0       0.000000  \n",
       "50%          1958.0       0.000000  \n",
       "75%          1958.0       0.000000  \n",
       "max          1958.0       4.000000  \n",
       "\n",
       "[8 rows x 123 columns]"
      ]
     },
     "execution_count": 16,
     "metadata": {},
     "output_type": "execute_result"
    }
   ],
   "source": [
    "train.describe()"
   ]
  },
  {
   "cell_type": "code",
   "execution_count": 17,
   "metadata": {},
   "outputs": [],
   "source": [
    "# train_x = train[csv_head]\n",
    "# train_y = train['INFO']\n",
    "# test_x = test_data[csv_head]\n",
    "\n",
    "# train_x['FAULTTIME'] = train_faulttime\n",
    "# train_x['COLLECTTIME'] = train_collecttime\n",
    "# test_x['FAULTTIME'] = test_faulttime\n",
    "# test_x['COLLECTTIME'] = test_collecttime"
   ]
  },
  {
   "cell_type": "code",
   "execution_count": 18,
   "metadata": {},
   "outputs": [],
   "source": [
    "train_x = train[csv_head]\n",
    "train_y = train['INFO']\n",
    "test_x = test_data[csv_head]\n",
    "\n",
    "train_x = train_x.fillna(method='pad')\n",
    "test_x = test_x.fillna(method='pad')"
   ]
  },
  {
   "cell_type": "code",
   "execution_count": 19,
   "metadata": {},
   "outputs": [],
   "source": [
    "## 生成onehot\n",
    "from sklearn import preprocessing\n",
    "enc = preprocessing.OneHotEncoder()\n",
    "someLabel = np.array([[0] , [1] , [2] , [3] , [4]])\n",
    "enc.fit(someLabel)\n",
    "train_y=enc.transform(np.asarray(train_y).reshape([-1,1]))"
   ]
  },
  {
   "cell_type": "code",
   "execution_count": 20,
   "metadata": {},
   "outputs": [
    {
     "data": {
      "text/plain": [
       "0.0    215738\n",
       "1.0      8194\n",
       "2.0      1075\n",
       "3.0       144\n",
       "4.0        41\n",
       "Name: INFO, dtype: int64"
      ]
     },
     "execution_count": 20,
     "metadata": {},
     "output_type": "execute_result"
    }
   ],
   "source": [
    "train['INFO'].value_counts()"
   ]
  },
  {
   "cell_type": "code",
   "execution_count": 21,
   "metadata": {},
   "outputs": [
    {
     "data": {
      "text/plain": [
       "<225192x5 sparse matrix of type '<class 'numpy.float64'>'\n",
       "\twith 225192 stored elements in Compressed Sparse Row format>"
      ]
     },
     "execution_count": 21,
     "metadata": {},
     "output_type": "execute_result"
    }
   ],
   "source": [
    "train_y"
   ]
  },
  {
   "cell_type": "code",
   "execution_count": 22,
   "metadata": {},
   "outputs": [],
   "source": [
    "## 对小数据集进行测试\n",
    "train_4 = train[train['INFO'] == 4]\n",
    "list_train4 = []\n",
    "for i in range(2000):\n",
    "    list_train4.append(train_4)\n",
    "train_4 = pd.concat(list_train4)\n",
    "\n",
    "train_3 = train[train['INFO'] == 3]\n",
    "list_train3 = []\n",
    "for i in range(60):\n",
    "    list_train3.append(train_3)\n",
    "train_3 = pd.concat(list_train3)\n",
    "\n",
    "train_2 = train[train['INFO'] == 2]\n",
    "list_train2 = []\n",
    "for i in range(10):\n",
    "    list_train2.append(train_2)\n",
    "train_2 = pd.concat(list_train2)\n",
    "\n",
    "train_1 = train[train['INFO'] == 1]\n",
    "list_train1 = []\n",
    "for i in range(1):\n",
    "    list_train1.append(train_1)\n",
    "train_1 = pd.concat(list_train1)\n",
    "\n",
    "train_0 = train[train['INFO'] == 0][1:10000]"
   ]
  },
  {
   "cell_type": "code",
   "execution_count": 23,
   "metadata": {},
   "outputs": [],
   "source": [
    "train_new = pd.concat([train_0 , train_1 , train_2 , train_3 , train_4])\n",
    "train_x = train_new[csv_head]\n",
    "train_y = train_new['INFO']"
   ]
  },
  {
   "cell_type": "code",
   "execution_count": 24,
   "metadata": {},
   "outputs": [],
   "source": [
    "## 预处理\n",
    "min_max_scaler = preprocessing.MinMaxScaler()\n",
    "\n",
    "train_x1  = min_max_scaler.fit_transform(train_x)\n",
    "test_x1 = min_max_scaler.fit_transform(test_x)"
   ]
  },
  {
   "cell_type": "code",
   "execution_count": null,
   "metadata": {},
   "outputs": [],
   "source": []
  },
  {
   "cell_type": "code",
   "execution_count": 25,
   "metadata": {},
   "outputs": [],
   "source": [
    "from sklearn.svm import SVC"
   ]
  },
  {
   "cell_type": "code",
   "execution_count": 26,
   "metadata": {},
   "outputs": [
    {
     "data": {
      "text/plain": [
       "SVC(C=1.0, cache_size=200, class_weight=None, coef0=0.0,\n",
       "  decision_function_shape='ovr', degree=3, gamma='auto', kernel='rbf',\n",
       "  max_iter=-1, probability=False, random_state=None, shrinking=True,\n",
       "  tol=0.001, verbose=False)"
      ]
     },
     "execution_count": 26,
     "metadata": {},
     "output_type": "execute_result"
    }
   ],
   "source": [
    "svm = SVC(kernel='rbf')\n",
    "svm.fit(train_x1 ,train_y)"
   ]
  },
  {
   "cell_type": "code",
   "execution_count": 27,
   "metadata": {},
   "outputs": [
    {
     "name": "stdout",
     "output_type": "stream",
     "text": [
      "[0. 2. 2. ... 0. 0. 0.]\n"
     ]
    }
   ],
   "source": [
    "pre = svm.predict(test_x1)\n",
    "print (pre)"
   ]
  },
  {
   "cell_type": "code",
   "execution_count": 36,
   "metadata": {},
   "outputs": [],
   "source": [
    "predf = pd.DataFrame(columns=['idx','INFO'])\n",
    "predf['idx'] = test_data['idx']\n",
    "predf['INFO'] = pre\n",
    "predf = pd.merge(predf,label_map , how = 'left' , on = 'INFO')\n",
    "predf.pop('INFO')\n",
    "predf.rename(columns={'CODE':'Pred'}, inplace=True)\n",
    "predf.to_csv('result0725_4.csv',index=None)"
   ]
  },
  {
   "cell_type": "code",
   "execution_count": 29,
   "metadata": {},
   "outputs": [
    {
     "data": {
      "text/plain": [
       "71559"
      ]
     },
     "execution_count": 29,
     "metadata": {},
     "output_type": "execute_result"
    }
   ],
   "source": [
    "\n",
    "len(set(predf['idx']))\n",
    "# t_x1.shape"
   ]
  },
  {
   "cell_type": "code",
   "execution_count": 30,
   "metadata": {},
   "outputs": [],
   "source": [
    "from sklearn.ensemble import RandomForestClassifier"
   ]
  },
  {
   "cell_type": "code",
   "execution_count": 34,
   "metadata": {},
   "outputs": [
    {
     "data": {
      "text/plain": [
       "RandomForestClassifier(bootstrap=True, class_weight=None, criterion='gini',\n",
       "            max_depth=500, max_features='auto', max_leaf_nodes=None,\n",
       "            min_impurity_decrease=0.0, min_impurity_split=None,\n",
       "            min_samples_leaf=1, min_samples_split=2,\n",
       "            min_weight_fraction_leaf=0.0, n_estimators=10, n_jobs=1,\n",
       "            oob_score=False, random_state=0, verbose=0, warm_start=False)"
      ]
     },
     "execution_count": 34,
     "metadata": {},
     "output_type": "execute_result"
    }
   ],
   "source": [
    "clf = RandomForestClassifier(max_depth=500, random_state=0)\n",
    "clf.fit(train_x1 , train_y)"
   ]
  },
  {
   "cell_type": "code",
   "execution_count": 35,
   "metadata": {},
   "outputs": [],
   "source": [
    "pre = clf.predict(test_x1)"
   ]
  },
  {
   "cell_type": "code",
   "execution_count": null,
   "metadata": {
    "collapsed": true
   },
   "outputs": [],
   "source": []
  },
  {
   "cell_type": "code",
   "execution_count": 29,
   "metadata": {
    "collapsed": true
   },
   "outputs": [],
   "source": [
    "#生成结果\n",
    "df_final = pd.DataFrame(columns=['idx','Pred'])\n",
    "df_final['idx'] = test_data['idx']\n",
    "df_final['Pred'] = 1182.0\n",
    "df_final.to_csv('result.csv',index=None)"
   ]
  },
  {
   "cell_type": "code",
   "execution_count": null,
   "metadata": {
    "collapsed": true
   },
   "outputs": [],
   "source": []
  },
  {
   "cell_type": "code",
   "execution_count": null,
   "metadata": {
    "collapsed": true
   },
   "outputs": [],
   "source": []
  }
 ],
 "metadata": {
  "kernelspec": {
   "display_name": "Python 3",
   "language": "python",
   "name": "python3"
  },
  "language_info": {
   "codemirror_mode": {
    "name": "ipython",
    "version": 3
   },
   "file_extension": ".py",
   "mimetype": "text/x-python",
   "name": "python",
   "nbconvert_exporter": "python",
   "pygments_lexer": "ipython3",
   "version": "3.6.5"
  }
 },
 "nbformat": 4,
 "nbformat_minor": 2
}
