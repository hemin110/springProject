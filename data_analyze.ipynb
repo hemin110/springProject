{
 "cells": [
  {
   "cell_type": "code",
   "execution_count": 1,
   "metadata": {
    "collapsed": true
   },
   "outputs": [],
   "source": [
    "import pandas  as pd \n",
    "import numpy as np"
   ]
  },
  {
   "cell_type": "code",
   "execution_count": 2,
   "metadata": {
    "collapsed": true
   },
   "outputs": [],
   "source": [
    "labelInfo = pd.read_csv('./data/dbd_faultcode.csv' , engine='python')\n",
    "test_data = pd.read_csv('./data/testing_set_for_users.csv' , engine='python')\n",
    "train_data = pd.read_csv('./data/dataset.csv',engine='python',chunksize=200000)"
   ]
  },
  {
   "cell_type": "code",
   "execution_count": 3,
   "metadata": {
    "collapsed": false
   },
   "outputs": [],
   "source": [
    "dfList = []\n",
    "for df in train_data:\n",
    "    SimpleData = pd.merge(df , labelInfo , how='left' , on=['FMI','SPN'])\n",
    "    SimpleData = SimpleData[np.isnan(SimpleData['CODE'])==False]\n",
    "    dfList.append(SimpleData)\n",
    "train_all = pd.concat(dfList)"
   ]
  },
  {
   "cell_type": "code",
   "execution_count": 4,
   "metadata": {
    "collapsed": false
   },
   "outputs": [
    {
     "data": {
      "text/plain": [
       "1206.0    215738\n",
       "1239.0      8194\n",
       "1141.0      1075\n",
       "1182.0       144\n",
       "1168.0        41\n",
       "1211.0        24\n",
       "1216.0         4\n",
       "1209.0         4\n",
       "1145.0         2\n",
       "1341.0         1\n",
       "1246.0         1\n",
       "1215.0         1\n",
       "1122.0         1\n",
       "Name: CODE, dtype: int64"
      ]
     },
     "execution_count": 4,
     "metadata": {},
     "output_type": "execute_result"
    }
   ],
   "source": [
    "train_all['CODE'].value_counts()"
   ]
  },
  {
   "cell_type": "code",
   "execution_count": 5,
   "metadata": {
    "collapsed": true
   },
   "outputs": [],
   "source": [
    "test_data = test_data.dropna(axis=1 , how='all')"
   ]
  },
  {
   "cell_type": "code",
   "execution_count": 7,
   "metadata": {
    "collapsed": false,
    "scrolled": true
   },
   "outputs": [
    {
     "data": {
      "text/plain": [
       "{1122.0,\n",
       " 1141.0,\n",
       " 1145.0,\n",
       " 1168.0,\n",
       " 1182.0,\n",
       " 1206.0,\n",
       " 1209.0,\n",
       " 1211.0,\n",
       " 1215.0,\n",
       " 1216.0,\n",
       " 1239.0,\n",
       " 1246.0,\n",
       " 1341.0}"
      ]
     },
     "execution_count": 7,
     "metadata": {},
     "output_type": "execute_result"
    }
   ],
   "source": [
    "set(train_all['CODE'])"
   ]
  },
  {
   "cell_type": "code",
   "execution_count": 9,
   "metadata": {
    "collapsed": true
   },
   "outputs": [],
   "source": [
    "csv_head = ['ACCRUNTIMES' , 'AREA' , 'CITY' , 'FRID' , 'LAT' , 'LNG' , 'PROVINCE' , 'READFLAG' , 'UNIQUENO' ]"
   ]
  },
  {
   "cell_type": "code",
   "execution_count": 46,
   "metadata": {
    "collapsed": true
   },
   "outputs": [],
   "source": [
    "label_map = pd.read_csv('./data/train_mer.txt')"
   ]
  },
  {
   "cell_type": "code",
   "execution_count": 47,
   "metadata": {
    "collapsed": false
   },
   "outputs": [
    {
     "data": {
      "text/html": [
       "<div>\n",
       "<table border=\"1\" class=\"dataframe\">\n",
       "  <thead>\n",
       "    <tr style=\"text-align: right;\">\n",
       "      <th></th>\n",
       "      <th>CODE</th>\n",
       "      <th>INFO</th>\n",
       "    </tr>\n",
       "  </thead>\n",
       "  <tbody>\n",
       "    <tr>\n",
       "      <th>0</th>\n",
       "      <td>1206.0</td>\n",
       "      <td>0</td>\n",
       "    </tr>\n",
       "    <tr>\n",
       "      <th>1</th>\n",
       "      <td>1239.0</td>\n",
       "      <td>1</td>\n",
       "    </tr>\n",
       "    <tr>\n",
       "      <th>2</th>\n",
       "      <td>1141.0</td>\n",
       "      <td>2</td>\n",
       "    </tr>\n",
       "    <tr>\n",
       "      <th>3</th>\n",
       "      <td>1182.0</td>\n",
       "      <td>3</td>\n",
       "    </tr>\n",
       "    <tr>\n",
       "      <th>4</th>\n",
       "      <td>1168.0</td>\n",
       "      <td>4</td>\n",
       "    </tr>\n",
       "    <tr>\n",
       "      <th>5</th>\n",
       "      <td>1211.0</td>\n",
       "      <td>4</td>\n",
       "    </tr>\n",
       "  </tbody>\n",
       "</table>\n",
       "</div>"
      ],
      "text/plain": [
       "     CODE  INFO\n",
       "0  1206.0     0\n",
       "1  1239.0     1\n",
       "2  1141.0     2\n",
       "3  1182.0     3\n",
       "4  1168.0     4\n",
       "5  1211.0     4"
      ]
     },
     "execution_count": 47,
     "metadata": {},
     "output_type": "execute_result"
    }
   ],
   "source": [
    "label_map"
   ]
  },
  {
   "cell_type": "code",
   "execution_count": 48,
   "metadata": {
    "collapsed": false
   },
   "outputs": [],
   "source": [
    "train = pd.merge(train_all , label_map , how='left' , on=['CODE'])"
   ]
  },
  {
   "cell_type": "code",
   "execution_count": 49,
   "metadata": {
    "collapsed": false
   },
   "outputs": [
    {
     "data": {
      "text/plain": [
       "'\\n1206.0    215738\\n1239.0      8194\\n1141.0      1075\\n1182.0       144\\n1168.0        41\\n1211.0        24\\n1216.0         4\\n1209.0         4\\n1145.0         2\\n1341.0         1\\n1246.0         1\\n1215.0         1\\n1122.0         1\\n'"
      ]
     },
     "execution_count": 49,
     "metadata": {},
     "output_type": "execute_result"
    }
   ],
   "source": [
    "'''\n",
    "1206.0    215738\n",
    "1239.0      8194\n",
    "1141.0      1075\n",
    "1182.0       144\n",
    "1168.0        41\n",
    "1211.0        24\n",
    "1216.0         4\n",
    "1209.0         4\n",
    "1145.0         2\n",
    "1341.0         1\n",
    "1246.0         1\n",
    "1215.0         1\n",
    "1122.0         1\n",
    "'''"
   ]
  },
  {
   "cell_type": "code",
   "execution_count": 50,
   "metadata": {
    "collapsed": true
   },
   "outputs": [],
   "source": [
    "train = train[np.isnan(train['INFO'])==False]"
   ]
  },
  {
   "cell_type": "code",
   "execution_count": 52,
   "metadata": {
    "collapsed": false
   },
   "outputs": [
    {
     "data": {
      "text/html": [
       "<div>\n",
       "<table border=\"1\" class=\"dataframe\">\n",
       "  <thead>\n",
       "    <tr style=\"text-align: right;\">\n",
       "      <th></th>\n",
       "      <th>Unnamed: 0</th>\n",
       "      <th>ACCEXCCOUNT</th>\n",
       "      <th>ACCRUNTIMES</th>\n",
       "      <th>ACCSTATE</th>\n",
       "      <th>ACCWORKTIMES</th>\n",
       "      <th>ALARM_0001</th>\n",
       "      <th>ALARM_0002</th>\n",
       "      <th>ALARM_0003</th>\n",
       "      <th>ALARM_0004</th>\n",
       "      <th>ALARM_0005</th>\n",
       "      <th>...</th>\n",
       "      <th>WATERTEMPERATURE</th>\n",
       "      <th>WIRELESSTEMP1</th>\n",
       "      <th>WIRELESSTEMP2</th>\n",
       "      <th>WIRELESSTEMP3</th>\n",
       "      <th>WIRELESSTEMP4</th>\n",
       "      <th>WORKDETAILID</th>\n",
       "      <th>WORKHOURS</th>\n",
       "      <th>CODE</th>\n",
       "      <th>ENGINETYPEID</th>\n",
       "      <th>INFO</th>\n",
       "    </tr>\n",
       "  </thead>\n",
       "  <tbody>\n",
       "    <tr>\n",
       "      <th>count</th>\n",
       "      <td>225216.000000</td>\n",
       "      <td>0.0</td>\n",
       "      <td>225216.000000</td>\n",
       "      <td>0.0</td>\n",
       "      <td>0.0</td>\n",
       "      <td>0.0</td>\n",
       "      <td>0.0</td>\n",
       "      <td>0.0</td>\n",
       "      <td>0.0</td>\n",
       "      <td>0.0</td>\n",
       "      <td>...</td>\n",
       "      <td>0.0</td>\n",
       "      <td>0.0</td>\n",
       "      <td>0.0</td>\n",
       "      <td>0.0</td>\n",
       "      <td>0.0</td>\n",
       "      <td>0.0</td>\n",
       "      <td>0.0</td>\n",
       "      <td>225216.000000</td>\n",
       "      <td>225216.0</td>\n",
       "      <td>225216.000000</td>\n",
       "    </tr>\n",
       "    <tr>\n",
       "      <th>mean</th>\n",
       "      <td>120671.168238</td>\n",
       "      <td>NaN</td>\n",
       "      <td>997.553451</td>\n",
       "      <td>NaN</td>\n",
       "      <td>NaN</td>\n",
       "      <td>NaN</td>\n",
       "      <td>NaN</td>\n",
       "      <td>NaN</td>\n",
       "      <td>NaN</td>\n",
       "      <td>NaN</td>\n",
       "      <td>...</td>\n",
       "      <td>NaN</td>\n",
       "      <td>NaN</td>\n",
       "      <td>NaN</td>\n",
       "      <td>NaN</td>\n",
       "      <td>NaN</td>\n",
       "      <td>NaN</td>\n",
       "      <td>NaN</td>\n",
       "      <td>1206.868646</td>\n",
       "      <td>1958.0</td>\n",
       "      <td>0.049002</td>\n",
       "    </tr>\n",
       "    <tr>\n",
       "      <th>std</th>\n",
       "      <td>69859.804998</td>\n",
       "      <td>NaN</td>\n",
       "      <td>727.006451</td>\n",
       "      <td>NaN</td>\n",
       "      <td>NaN</td>\n",
       "      <td>NaN</td>\n",
       "      <td>NaN</td>\n",
       "      <td>NaN</td>\n",
       "      <td>NaN</td>\n",
       "      <td>NaN</td>\n",
       "      <td>...</td>\n",
       "      <td>NaN</td>\n",
       "      <td>NaN</td>\n",
       "      <td>NaN</td>\n",
       "      <td>NaN</td>\n",
       "      <td>NaN</td>\n",
       "      <td>NaN</td>\n",
       "      <td>NaN</td>\n",
       "      <td>7.724456</td>\n",
       "      <td>0.0</td>\n",
       "      <td>0.251887</td>\n",
       "    </tr>\n",
       "    <tr>\n",
       "      <th>min</th>\n",
       "      <td>0.000000</td>\n",
       "      <td>NaN</td>\n",
       "      <td>0.000000</td>\n",
       "      <td>NaN</td>\n",
       "      <td>NaN</td>\n",
       "      <td>NaN</td>\n",
       "      <td>NaN</td>\n",
       "      <td>NaN</td>\n",
       "      <td>NaN</td>\n",
       "      <td>NaN</td>\n",
       "      <td>...</td>\n",
       "      <td>NaN</td>\n",
       "      <td>NaN</td>\n",
       "      <td>NaN</td>\n",
       "      <td>NaN</td>\n",
       "      <td>NaN</td>\n",
       "      <td>NaN</td>\n",
       "      <td>NaN</td>\n",
       "      <td>1141.000000</td>\n",
       "      <td>1958.0</td>\n",
       "      <td>0.000000</td>\n",
       "    </tr>\n",
       "    <tr>\n",
       "      <th>25%</th>\n",
       "      <td>59931.750000</td>\n",
       "      <td>NaN</td>\n",
       "      <td>660.000000</td>\n",
       "      <td>NaN</td>\n",
       "      <td>NaN</td>\n",
       "      <td>NaN</td>\n",
       "      <td>NaN</td>\n",
       "      <td>NaN</td>\n",
       "      <td>NaN</td>\n",
       "      <td>NaN</td>\n",
       "      <td>...</td>\n",
       "      <td>NaN</td>\n",
       "      <td>NaN</td>\n",
       "      <td>NaN</td>\n",
       "      <td>NaN</td>\n",
       "      <td>NaN</td>\n",
       "      <td>NaN</td>\n",
       "      <td>NaN</td>\n",
       "      <td>1206.000000</td>\n",
       "      <td>1958.0</td>\n",
       "      <td>0.000000</td>\n",
       "    </tr>\n",
       "    <tr>\n",
       "      <th>50%</th>\n",
       "      <td>120633.500000</td>\n",
       "      <td>NaN</td>\n",
       "      <td>888.000000</td>\n",
       "      <td>NaN</td>\n",
       "      <td>NaN</td>\n",
       "      <td>NaN</td>\n",
       "      <td>NaN</td>\n",
       "      <td>NaN</td>\n",
       "      <td>NaN</td>\n",
       "      <td>NaN</td>\n",
       "      <td>...</td>\n",
       "      <td>NaN</td>\n",
       "      <td>NaN</td>\n",
       "      <td>NaN</td>\n",
       "      <td>NaN</td>\n",
       "      <td>NaN</td>\n",
       "      <td>NaN</td>\n",
       "      <td>NaN</td>\n",
       "      <td>1206.000000</td>\n",
       "      <td>1958.0</td>\n",
       "      <td>0.000000</td>\n",
       "    </tr>\n",
       "    <tr>\n",
       "      <th>75%</th>\n",
       "      <td>181050.250000</td>\n",
       "      <td>NaN</td>\n",
       "      <td>1174.000000</td>\n",
       "      <td>NaN</td>\n",
       "      <td>NaN</td>\n",
       "      <td>NaN</td>\n",
       "      <td>NaN</td>\n",
       "      <td>NaN</td>\n",
       "      <td>NaN</td>\n",
       "      <td>NaN</td>\n",
       "      <td>...</td>\n",
       "      <td>NaN</td>\n",
       "      <td>NaN</td>\n",
       "      <td>NaN</td>\n",
       "      <td>NaN</td>\n",
       "      <td>NaN</td>\n",
       "      <td>NaN</td>\n",
       "      <td>NaN</td>\n",
       "      <td>1206.000000</td>\n",
       "      <td>1958.0</td>\n",
       "      <td>0.000000</td>\n",
       "    </tr>\n",
       "    <tr>\n",
       "      <th>max</th>\n",
       "      <td>241400.000000</td>\n",
       "      <td>NaN</td>\n",
       "      <td>4603.000000</td>\n",
       "      <td>NaN</td>\n",
       "      <td>NaN</td>\n",
       "      <td>NaN</td>\n",
       "      <td>NaN</td>\n",
       "      <td>NaN</td>\n",
       "      <td>NaN</td>\n",
       "      <td>NaN</td>\n",
       "      <td>...</td>\n",
       "      <td>NaN</td>\n",
       "      <td>NaN</td>\n",
       "      <td>NaN</td>\n",
       "      <td>NaN</td>\n",
       "      <td>NaN</td>\n",
       "      <td>NaN</td>\n",
       "      <td>NaN</td>\n",
       "      <td>1239.000000</td>\n",
       "      <td>1958.0</td>\n",
       "      <td>4.000000</td>\n",
       "    </tr>\n",
       "  </tbody>\n",
       "</table>\n",
       "<p>8 rows × 123 columns</p>\n",
       "</div>"
      ],
      "text/plain": [
       "          Unnamed: 0  ACCEXCCOUNT    ACCRUNTIMES  ACCSTATE  ACCWORKTIMES  \\\n",
       "count  225216.000000          0.0  225216.000000       0.0           0.0   \n",
       "mean   120671.168238          NaN     997.553451       NaN           NaN   \n",
       "std     69859.804998          NaN     727.006451       NaN           NaN   \n",
       "min         0.000000          NaN       0.000000       NaN           NaN   \n",
       "25%     59931.750000          NaN     660.000000       NaN           NaN   \n",
       "50%    120633.500000          NaN     888.000000       NaN           NaN   \n",
       "75%    181050.250000          NaN    1174.000000       NaN           NaN   \n",
       "max    241400.000000          NaN    4603.000000       NaN           NaN   \n",
       "\n",
       "       ALARM_0001  ALARM_0002  ALARM_0003  ALARM_0004  ALARM_0005  \\\n",
       "count         0.0         0.0         0.0         0.0         0.0   \n",
       "mean          NaN         NaN         NaN         NaN         NaN   \n",
       "std           NaN         NaN         NaN         NaN         NaN   \n",
       "min           NaN         NaN         NaN         NaN         NaN   \n",
       "25%           NaN         NaN         NaN         NaN         NaN   \n",
       "50%           NaN         NaN         NaN         NaN         NaN   \n",
       "75%           NaN         NaN         NaN         NaN         NaN   \n",
       "max           NaN         NaN         NaN         NaN         NaN   \n",
       "\n",
       "           ...        WATERTEMPERATURE  WIRELESSTEMP1  WIRELESSTEMP2  \\\n",
       "count      ...                     0.0            0.0            0.0   \n",
       "mean       ...                     NaN            NaN            NaN   \n",
       "std        ...                     NaN            NaN            NaN   \n",
       "min        ...                     NaN            NaN            NaN   \n",
       "25%        ...                     NaN            NaN            NaN   \n",
       "50%        ...                     NaN            NaN            NaN   \n",
       "75%        ...                     NaN            NaN            NaN   \n",
       "max        ...                     NaN            NaN            NaN   \n",
       "\n",
       "       WIRELESSTEMP3  WIRELESSTEMP4  WORKDETAILID  WORKHOURS           CODE  \\\n",
       "count            0.0            0.0           0.0        0.0  225216.000000   \n",
       "mean             NaN            NaN           NaN        NaN    1206.868646   \n",
       "std              NaN            NaN           NaN        NaN       7.724456   \n",
       "min              NaN            NaN           NaN        NaN    1141.000000   \n",
       "25%              NaN            NaN           NaN        NaN    1206.000000   \n",
       "50%              NaN            NaN           NaN        NaN    1206.000000   \n",
       "75%              NaN            NaN           NaN        NaN    1206.000000   \n",
       "max              NaN            NaN           NaN        NaN    1239.000000   \n",
       "\n",
       "       ENGINETYPEID           INFO  \n",
       "count      225216.0  225216.000000  \n",
       "mean         1958.0       0.049002  \n",
       "std             0.0       0.251887  \n",
       "min          1958.0       0.000000  \n",
       "25%          1958.0       0.000000  \n",
       "50%          1958.0       0.000000  \n",
       "75%          1958.0       0.000000  \n",
       "max          1958.0       4.000000  \n",
       "\n",
       "[8 rows x 123 columns]"
      ]
     },
     "execution_count": 52,
     "metadata": {},
     "output_type": "execute_result"
    }
   ],
   "source": [
    "train.describe()"
   ]
  },
  {
   "cell_type": "code",
   "execution_count": 60,
   "metadata": {
    "collapsed": false
   },
   "outputs": [],
   "source": [
    "train_x = train[csv_head]\n",
    "train_y = train['INFO']\n",
    "test_x = test_data[csv_head]\n",
    "\n",
    "train_x = train_x.fillna(method='pad')\n",
    "test_x = test_x.fillna(method='pad')"
   ]
  },
  {
   "cell_type": "code",
   "execution_count": 61,
   "metadata": {
    "collapsed": false
   },
   "outputs": [
    {
     "name": "stderr",
     "output_type": "stream",
     "text": [
      "D:\\software\\Anaconda2\\lib\\site-packages\\ipykernel\\__main__.py:6: FutureWarning: reshape is deprecated and will raise in a subsequent release. Please use .values.reshape(...) instead\n"
     ]
    }
   ],
   "source": [
    "## 生成onehot\n",
    "from sklearn import preprocessing\n",
    "enc = preprocessing.OneHotEncoder()\n",
    "someLabel = np.array([[0] , [1] , [2] , [3] , [4]])\n",
    "enc.fit(someLabel)\n",
    "train_y=enc.transform(train_y.reshape([-1,1]))"
   ]
  },
  {
   "cell_type": "code",
   "execution_count": 62,
   "metadata": {
    "collapsed": false
   },
   "outputs": [
    {
     "data": {
      "text/plain": [
       "0.0    215738\n",
       "1.0      8194\n",
       "2.0      1075\n",
       "3.0       144\n",
       "4.0        65\n",
       "Name: INFO, dtype: int64"
      ]
     },
     "execution_count": 62,
     "metadata": {},
     "output_type": "execute_result"
    }
   ],
   "source": [
    "train['INFO'].value_counts()"
   ]
  },
  {
   "cell_type": "code",
   "execution_count": 65,
   "metadata": {
    "collapsed": false
   },
   "outputs": [],
   "source": [
    "## 对小数据集进行测试\n",
    "train_4 = train[train['INFO'] == 4]\n",
    "train_3 = train[train['INFO'] == 3]\n",
    "train_2 = train[train['INFO'] == 2][1:150]\n",
    "train_1 = train[train['INFO'] == 1][1:150]\n",
    "train_0 = train[train['INFO'] == 0][1:150]"
   ]
  },
  {
   "cell_type": "code",
   "execution_count": 68,
   "metadata": {
    "collapsed": false
   },
   "outputs": [],
   "source": [
    "train_new = pd.concat([train_0 , train_1 , train_2 , train_3 , train_4])\n",
    "train_x = train_new[csv_head]\n",
    "train_y = train_new['INFO']"
   ]
  },
  {
   "cell_type": "code",
   "execution_count": 81,
   "metadata": {
    "collapsed": false
   },
   "outputs": [],
   "source": [
    "## 预处理\n",
    "min_max_scaler = preprocessing.MinMaxScaler()\n",
    "train_x1  = min_max_scaler.fit_transform(train_x)\n",
    "test_x1 = min_max_scaler.fit_transform(test_x)"
   ]
  },
  {
   "cell_type": "code",
   "execution_count": 82,
   "metadata": {
    "collapsed": false
   },
   "outputs": [
    {
     "data": {
      "text/plain": [
       "SVC(C=1.0, cache_size=200, class_weight=None, coef0=0.0,\n",
       "  decision_function_shape=None, degree=3, gamma='auto', kernel='rbf',\n",
       "  max_iter=-1, probability=False, random_state=None, shrinking=True,\n",
       "  tol=0.001, verbose=False)"
      ]
     },
     "execution_count": 82,
     "metadata": {},
     "output_type": "execute_result"
    }
   ],
   "source": [
    "from sklearn.svm import SVC\n",
    "svm = SVC()\n",
    "svm.fit(train_x1 ,train_y)"
   ]
  },
  {
   "cell_type": "code",
   "execution_count": 83,
   "metadata": {
    "collapsed": false
   },
   "outputs": [
    {
     "name": "stdout",
     "output_type": "stream",
     "text": [
      "[ 2.  2.  2. ...,  0.  0.  0.]\n"
     ]
    }
   ],
   "source": [
    "pre = svm.predict(test_x1)\n",
    "print pre"
   ]
  },
  {
   "cell_type": "code",
   "execution_count": 84,
   "metadata": {
    "collapsed": true
   },
   "outputs": [],
   "source": [
    "predf = pd.DataFrame(columns=['idx','INFO'])\n",
    "predf['idx'] = test_data['idx']\n",
    "predf['INFO'] = pre\n",
    "predf = pd.merge(predf,label_map , how = 'left' , on = 'INFO')\n",
    "predf.pop('INFO')\n",
    "predf.rename(columns={'CODE':'Pred'}, inplace=True)\n",
    "predf.to_csv('result.csv',index=None)"
   ]
  },
  {
   "cell_type": "code",
   "execution_count": null,
   "metadata": {
    "collapsed": true
   },
   "outputs": [],
   "source": []
  },
  {
   "cell_type": "code",
   "execution_count": null,
   "metadata": {
    "collapsed": true
   },
   "outputs": [],
   "source": []
  },
  {
   "cell_type": "code",
   "execution_count": null,
   "metadata": {
    "collapsed": true
   },
   "outputs": [],
   "source": []
  },
  {
   "cell_type": "code",
   "execution_count": null,
   "metadata": {
    "collapsed": true
   },
   "outputs": [],
   "source": []
  },
  {
   "cell_type": "code",
   "execution_count": null,
   "metadata": {
    "collapsed": true
   },
   "outputs": [],
   "source": []
  },
  {
   "cell_type": "code",
   "execution_count": 29,
   "metadata": {
    "collapsed": true
   },
   "outputs": [],
   "source": [
    "#生成结果\n",
    "df_final = pd.DataFrame(columns=['idx','Pred'])\n",
    "df_final['idx'] = test_data['idx']\n",
    "df_final['Pred'] = 1182.0\n",
    "df_final.to_csv('result.csv',index=None)"
   ]
  },
  {
   "cell_type": "code",
   "execution_count": null,
   "metadata": {
    "collapsed": true
   },
   "outputs": [],
   "source": []
  },
  {
   "cell_type": "code",
   "execution_count": null,
   "metadata": {
    "collapsed": true
   },
   "outputs": [],
   "source": []
  }
 ],
 "metadata": {
  "kernelspec": {
   "display_name": "Python 2",
   "language": "python",
   "name": "python2"
  },
  "language_info": {
   "codemirror_mode": {
    "name": "ipython",
    "version": 2
   },
   "file_extension": ".py",
   "mimetype": "text/x-python",
   "name": "python",
   "nbconvert_exporter": "python",
   "pygments_lexer": "ipython2",
   "version": "2.7.13"
  }
 },
 "nbformat": 4,
 "nbformat_minor": 2
}
